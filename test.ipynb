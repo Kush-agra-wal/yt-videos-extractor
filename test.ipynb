{
 "cells": [
  {
   "cell_type": "code",
   "execution_count": 2,
   "id": "57d9fca8",
   "metadata": {},
   "outputs": [
    {
     "name": "stdout",
     "output_type": "stream",
     "text": [
      "Document indexed: Lb56U5YB4PDLRd2pLXKA\n",
      "Retrieved document: {'name': 'Alice2', 'email': 'alice@example.com', 'age': 30}\n"
     ]
    }
   ],
   "source": [
    "from elasticsearch import Elasticsearch\n",
    "\n",
    "# Use your actual credentials here\n",
    "es = Elasticsearch(\n",
    "    \"http://localhost:9200\",\n",
    "    basic_auth=(\"elastic\", \"12345678\")  # ← update with your actual password\n",
    ")\n",
    "\n",
    "# Same as before\n",
    "index_name = \"test-index\"\n",
    "doc = {\n",
    "    \"name\": \"Alice2\",\n",
    "    \"email\": \"alice@example.com\",\n",
    "    \"age\": 30\n",
    "}\n",
    "\n",
    "# Index the document\n",
    "response = es.index(index=index_name, document=doc)\n",
    "print(\"Document indexed:\", response['_id'])\n",
    "\n",
    "# Get the document\n",
    "doc_id = response['_id']\n",
    "retrieved = es.get(index=index_name, id=doc_id)\n",
    "print(\"Retrieved document:\", retrieved['_source'])\n"
   ]
  },
  {
   "cell_type": "code",
   "execution_count": 3,
   "id": "c6787756",
   "metadata": {},
   "outputs": [
    {
     "name": "stdout",
     "output_type": "stream",
     "text": [
      "Documents found:\n",
      "{'name': 'Alice', 'email': 'alice@example.com', 'age': 30}\n",
      "{'name': 'Alice2', 'email': 'alice@example.com', 'age': 30}\n"
     ]
    }
   ],
   "source": [
    "response = es.search(\n",
    "    index=index_name,\n",
    "    query={\"match_all\": {}}\n",
    ")\n",
    "\n",
    "# Print each document\n",
    "print(\"Documents found:\")\n",
    "for hit in response[\"hits\"][\"hits\"]:\n",
    "    print(hit[\"_source\"])"
   ]
  },
  {
   "cell_type": "code",
   "execution_count": 22,
   "id": "571bafaa",
   "metadata": {},
   "outputs": [
    {
     "name": "stdout",
     "output_type": "stream",
     "text": [
      "Indexed document ID: L76XU5YB4PDLRd2pSXIM\n",
      "Retrieved document: {'video_id': 'dQw4w9WgXcQ', 'title': 'Nevere Gonna Give You Up', 'description': 'The official music video for “Nevere Gonna Give You Up” by Rick Astley.', 'published_at': '2009-10-25T06:57:33Z', 'thumbnails': 'https://i.ytimg.com/vi/dQw4w9WgXcQ/hqdefault.jpg', 'indexed_at': '2025-04-20T14:25:45.738062+00:00'}\n"
     ]
    }
   ],
   "source": [
    "\n",
    "from datetime import datetime, timezone\n",
    "video_doc = {\n",
    "    \"video_id\": \"dQw4w9WgXcQ\",\n",
    "    \"title\": \"Nevere Gonna Give You Up\",\n",
    "    \"description\": \"The official music video for “Nevere Gonna Give You Up” by Rick Astley.\",\n",
    "    \"published_at\": \"2009-10-25T06:57:33Z\",\n",
    "    \"thumbnails\": \"https://i.ytimg.com/vi/dQw4w9WgXcQ/hqdefault.jpg\",\n",
    "    \"indexed_at\": datetime.now(timezone.utc).isoformat()\n",
    "}\n",
    "\n",
    "# Index name (make sure it exists or create it beforehand with mapping)\n",
    "index_name = \"youtube_videos\"\n",
    "\n",
    "# Index the document (Elasticsearch will auto-generate an ID if not provided)\n",
    "response = es.index(index=index_name, document=video_doc)\n",
    "\n",
    "print(\"Indexed document ID:\", response['_id'])\n",
    "doc_id = response['_id']\n",
    "retrieved = es.get(index=index_name, id=doc_id)\n",
    "print(\"Retrieved document:\", retrieved['_source'])"
   ]
  },
  {
   "cell_type": "code",
   "execution_count": 27,
   "id": "eca45bf7",
   "metadata": {},
   "outputs": [
    {
     "name": "stdout",
     "output_type": "stream",
     "text": [
      "{'total': 2, 'page': 1, 'size': 2, 'videos': [{'video_id': 'dQw4w9WgXcQ', 'title': 'Never Gonna Give You Up', 'description': 'The official music video for “Never Gonna Give You Up” by Rick Astley.', 'published_at': '2009-10-25T06:57:33Z', 'thumbnails': 'https://i.ytimg.com/vi/dQw4w9WgXcQ/hqdefault.jpg', 'indexed_at': '2025-04-20T13:53:58.263103Z'}, {'video_id': 'dQw4w9WgXcQ', 'title': 'Nevere Gonna Give You Up', 'description': 'The official music video for “Nevere Gonna Give You Up” by Rick Astley.', 'published_at': '2009-10-25T06:57:33Z', 'thumbnails': 'https://i.ytimg.com/vi/dQw4w9WgXcQ/hqdefault.jpg', 'indexed_at': '2025-04-20T14:25:45.738062Z'}]}\n"
     ]
    },
    {
     "data": {
      "text/plain": [
       "{'total': 2,\n",
       " 'page': 1,\n",
       " 'size': 2,\n",
       " 'videos': [{'video_id': 'dQw4w9WgXcQ',\n",
       "   'title': 'Never Gonna Give You Up',\n",
       "   'description': 'The official music video for “Never Gonna Give You Up” by Rick Astley.',\n",
       "   'published_at': '2009-10-25T06:57:33Z',\n",
       "   'thumbnails': 'https://i.ytimg.com/vi/dQw4w9WgXcQ/hqdefault.jpg',\n",
       "   'indexed_at': '2025-04-20T13:53:58.263103Z'},\n",
       "  {'video_id': 'dQw4w9WgXcQ',\n",
       "   'title': 'Nevere Gonna Give You Up',\n",
       "   'description': 'The official music video for “Nevere Gonna Give You Up” by Rick Astley.',\n",
       "   'published_at': '2009-10-25T06:57:33Z',\n",
       "   'thumbnails': 'https://i.ytimg.com/vi/dQw4w9WgXcQ/hqdefault.jpg',\n",
       "   'indexed_at': '2025-04-20T14:25:45.738062Z'}]}"
      ]
     },
     "execution_count": 27,
     "metadata": {},
     "output_type": "execute_result"
    }
   ],
   "source": [
    "import httpx\n",
    "\n",
    "def search_videos(query: str, score_threshold: float = 1.0):\n",
    "    url = \"http://localhost:8000/search\"  # Replace with your actual API URL\n",
    "\n",
    "    params = {\n",
    "        \"q\": query\n",
    "    }\n",
    "\n",
    "    # Perform the GET request\n",
    "    with httpx.Client() as client:\n",
    "        try:\n",
    "            response = client.get(url, params=params)\n",
    "\n",
    "            # Raise an exception if the response status code is not 200 (OK)\n",
    "            response.raise_for_status()\n",
    "\n",
    "            # Parse the JSON response\n",
    "            data = response.json()\n",
    "            \n",
    "            # Print or return the data\n",
    "            print(data)  # For debugging\n",
    "            return data\n",
    "\n",
    "        except httpx.RequestError as exc:\n",
    "            print(f\"An error occurred while requesting {exc.request.url!r}.\")\n",
    "        except httpx.HTTPStatusError as exc:\n",
    "            print(f\"HTTP error occurred: {exc.response.status_code}\")\n",
    "        except Exception as exc:\n",
    "            print(f\"An error occurred: {exc}\")\n",
    "\n",
    "# Call the function with example query and score threshold\n",
    "query = \"gonna\"\n",
    "score_threshold = 1.5  # Example score threshold\n",
    "search_videos(query, score_threshold)\n"
   ]
  },
  {
   "cell_type": "code",
   "execution_count": 13,
   "id": "63ca8bae",
   "metadata": {},
   "outputs": [
    {
     "name": "stdout",
     "output_type": "stream",
     "text": [
      "{'total': 1, 'page': 1, 'size': 1, 'videos': [{'video_id': 'dQw4w9WgXcQ', 'title': 'Never Gonna Give You Up', 'description': 'The official music video for “Never Gonna Give You Up” by Rick Astley.', 'published_at': '2009-10-25T06:57:33Z', 'thumbnails': 'https://i.ytimg.com/vi/dQw4w9WgXcQ/hqdefault.jpg', 'indexed_at': '2025-04-20T13:53:58.263103Z'}]}\n"
     ]
    }
   ],
   "source": [
    "import httpx\n",
    "\n",
    "# API endpoint\n",
    "url = \"http://localhost:8000/videos\"\n",
    "params = {\n",
    "    \"page\": 1,\n",
    "    \"size\": 10\n",
    "}\n",
    "\n",
    "# Make the request\n",
    "response = httpx.get(url, params=params)\n",
    "\n",
    "# Handle the response\n",
    "if response.status_code == 200:\n",
    "    data = response.json()\n",
    "    print(data)\n",
    "else:\n",
    "    print(\"Error:\", response.status_code, response.text)\n"
   ]
  }
 ],
 "metadata": {
  "kernelspec": {
   "display_name": "base",
   "language": "python",
   "name": "python3"
  },
  "language_info": {
   "codemirror_mode": {
    "name": "ipython",
    "version": 3
   },
   "file_extension": ".py",
   "mimetype": "text/x-python",
   "name": "python",
   "nbconvert_exporter": "python",
   "pygments_lexer": "ipython3",
   "version": "3.12.9"
  }
 },
 "nbformat": 4,
 "nbformat_minor": 5
}
